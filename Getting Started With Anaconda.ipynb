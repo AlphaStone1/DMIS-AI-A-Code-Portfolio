{
 "cells": [
  {
   "cell_type": "markdown",
   "id": "061bacb9",
   "metadata": {},
   "source": [
    "2649854M \n",
    "https://github.com/AlphaStone1/DMIS-AI-A-Code-Portfolio"
   ]
  },
  {
   "cell_type": "markdown",
   "id": "bb7fd149",
   "metadata": {},
   "source": [
    "# Getting started with anaconda \n",
    "\n",
    "Excersise right now\n",
    "\n",
    "**I chose this course becuase im interested in AI**\n",
    "\n",
    "*I have prior knowledge of python*\n",
    "\n",
    "I expect to be able to learn how to use lots of new softwares"
   ]
  },
  {
   "cell_type": "code",
   "execution_count": null,
   "id": "fd352aca",
   "metadata": {},
   "outputs": [],
   "source": [
    "print (\"hello world\")"
   ]
  },
  {
   "cell_type": "markdown",
   "id": "755de30f",
   "metadata": {},
   "source": [
    "This simply displays a message"
   ]
  },
  {
   "cell_type": "code",
   "execution_count": null,
   "id": "0ceba18a",
   "metadata": {},
   "outputs": [],
   "source": [
    "message = \"alright guys\"\n",
    "print (message)\n",
    "print (message+\" \"+message)\n",
    "print (message*5)\n",
    "print (message[4])"
   ]
  },
  {
   "cell_type": "markdown",
   "id": "d1f31c42",
   "metadata": {},
   "source": [
    "Displays variations of the same message"
   ]
  },
  {
   "cell_type": "code",
   "execution_count": null,
   "id": "c0792fa7",
   "metadata": {},
   "outputs": [],
   "source": [
    "from IPython.display import*\n",
    "YouTubeVideo(\"iSemB0nR2r0\")"
   ]
  },
  {
   "cell_type": "markdown",
   "id": "b0f716ae",
   "metadata": {},
   "source": [
    "A video of highlights from a football match"
   ]
  },
  {
   "cell_type": "code",
   "execution_count": null,
   "id": "fe0453cd",
   "metadata": {},
   "outputs": [],
   "source": [
    "import webbrowser\n",
    "import requests #importing a library\n",
    "\n",
    "print(\"Shall we hunt down an old website?\") #printing something\n",
    "site = input(\"Type a website URL: \") #assinging a value to a variable\n",
    "era = input(\"Type year, month, and date, e.g., 20150613: \")\n",
    "url = \"http://archive.org/wayback/available?url=%s&timestamp=%s\" % (site, era)\n",
    "response = requests.get(url)\n",
    "data = response.json()\n",
    "try:\n",
    "    old_site = data[\"archived_snapshots\"][\"closest\"][\"url\"]\n",
    "    print(\"Found this copy: \", old_site)\n",
    "    print(\"It should appear in your browser.\")\n",
    "    webbrowser.open(old_site)\n",
    "except:\n",
    "    print(\"Sorry, could not find the site.\")\n"
   ]
  },
  {
   "cell_type": "markdown",
   "id": "4d13a417",
   "metadata": {},
   "source": [
    "This allows you to view what a website looked like in the past"
   ]
  },
  {
   "cell_type": "code",
   "execution_count": null,
   "id": "0700741a",
   "metadata": {},
   "outputs": [],
   "source": [
    "from IPython.display import Image \n",
    "Image (\"picture1.jpg\") "
   ]
  },
  {
   "cell_type": "markdown",
   "id": "2f3df601",
   "metadata": {},
   "source": [
    "Displays an image "
   ]
  },
  {
   "cell_type": "code",
   "execution_count": null,
   "id": "14fb2f71",
   "metadata": {},
   "outputs": [],
   "source": [
    "from IPython.display import Audio\n",
    "Audio (\"audio1.mid\")"
   ]
  },
  {
   "cell_type": "code",
   "execution_count": null,
   "id": "4f1a7d9a",
   "metadata": {},
   "outputs": [],
   "source": [
    "from IPython.display import Audio\n",
    "Audio (\"GoldbergVariations_MehmetOkonsar-1of3_Var1to10.ogg\")\n",
    "#The piece of music is owned by Artoffuge Mehmet Okonsar.\n",
    "#This file is licensed under the Creative Commons Attribution-Share Alike 3.0 Unported license."
   ]
  },
  {
   "cell_type": "markdown",
   "id": "beca4673",
   "metadata": {},
   "source": [
    "The .mid file did not play anything whereas the .ogg file played an 11 minute 48 second audio clip."
   ]
  },
  {
   "cell_type": "code",
   "execution_count": null,
   "id": "46863bd5",
   "metadata": {
    "scrolled": true
   },
   "outputs": [],
   "source": [
    "from matplotlib import pyplot\n",
    "test_picture = pyplot.imread(\"picture1.jpg\")\n",
    "print(\"Numpy array of the image is: \",test_picture)\n",
    "pyplot.imshow(test_picture)"
   ]
  },
  {
   "cell_type": "code",
   "execution_count": null,
   "id": "f5ff254f",
   "metadata": {},
   "outputs": [],
   "source": [
    "test_picture_filtered = 2*test_picture/3\n",
    "pyplot.imshow(test_picture_filtered) "
   ]
  },
  {
   "cell_type": "code",
   "execution_count": null,
   "id": "687a39c2",
   "metadata": {},
   "outputs": [],
   "source": [
    "test_picture_filtered = 2*test_picture\n",
    "pyplot.imshow(test_picture_filtered) "
   ]
  },
  {
   "cell_type": "markdown",
   "id": "be544c29",
   "metadata": {},
   "source": [
    "Displays the variations of viewing an image using NumPy"
   ]
  },
  {
   "cell_type": "code",
   "execution_count": null,
   "id": "075dc335",
   "metadata": {
    "scrolled": true
   },
   "outputs": [],
   "source": [
    "from sklearn import datasets\n",
    "dir(datasets) "
   ]
  },
  {
   "cell_type": "markdown",
   "id": "45d3f500",
   "metadata": {},
   "source": [
    "Importing Datasets"
   ]
  },
  {
   "cell_type": "markdown",
   "id": "2a5c72c5",
   "metadata": {},
   "source": [
    "I choose load_iris and load_breast cancer becasue these seem like interesting things."
   ]
  },
  {
   "cell_type": "code",
   "execution_count": null,
   "id": "ddd80c56",
   "metadata": {
    "scrolled": true
   },
   "outputs": [],
   "source": [
    "breast_cancer_data = datasets.load_breast_cancer()\n",
    "print (breast_cancer_data)"
   ]
  },
  {
   "cell_type": "markdown",
   "id": "c1fe8da1",
   "metadata": {},
   "source": [
    "Displaying the data on breast cancer"
   ]
  },
  {
   "cell_type": "code",
   "execution_count": null,
   "id": "44357a88",
   "metadata": {},
   "outputs": [],
   "source": [
    "breast_cancer_data = datasets.load_breast_cancer()\n",
    "print (breast_cancer_data.DESCR)"
   ]
  },
  {
   "cell_type": "markdown",
   "id": "5c721bb5",
   "metadata": {},
   "source": [
    "Describing the data on breast cancer"
   ]
  },
  {
   "cell_type": "code",
   "execution_count": null,
   "id": "344ebdf3",
   "metadata": {},
   "outputs": [],
   "source": [
    "breast_cancer_data.feature_names"
   ]
  },
  {
   "cell_type": "code",
   "execution_count": null,
   "id": "bea569cd",
   "metadata": {},
   "outputs": [],
   "source": [
    "breast_cancer_data.target_names"
   ]
  },
  {
   "cell_type": "code",
   "execution_count": null,
   "id": "8d08dc52",
   "metadata": {},
   "outputs": [],
   "source": [
    "breast_cancer_data.keys()"
   ]
  },
  {
   "cell_type": "code",
   "execution_count": null,
   "id": "4388dd50",
   "metadata": {},
   "outputs": [],
   "source": [
    "iris_data = datasets.load_iris()\n",
    "print (iris_data)"
   ]
  },
  {
   "cell_type": "markdown",
   "id": "79053eff",
   "metadata": {},
   "source": [
    "Displaying the data on iris"
   ]
  },
  {
   "cell_type": "code",
   "execution_count": null,
   "id": "38c912bd",
   "metadata": {
    "scrolled": true
   },
   "outputs": [],
   "source": [
    "iris_data = datasets.load_iris()\n",
    "print (iris_data.DESCR)"
   ]
  },
  {
   "cell_type": "markdown",
   "id": "46790c73",
   "metadata": {},
   "source": [
    "Describing the data on iris"
   ]
  },
  {
   "cell_type": "code",
   "execution_count": null,
   "id": "1c9ff7f2",
   "metadata": {},
   "outputs": [],
   "source": [
    "iris_data.feature_names"
   ]
  },
  {
   "cell_type": "code",
   "execution_count": null,
   "id": "fb5de9bc",
   "metadata": {},
   "outputs": [],
   "source": [
    "iris_data.target_names"
   ]
  },
  {
   "cell_type": "code",
   "execution_count": null,
   "id": "54626442",
   "metadata": {},
   "outputs": [],
   "source": [
    "iris_data.keys()"
   ]
  },
  {
   "cell_type": "code",
   "execution_count": null,
   "id": "879c3149",
   "metadata": {},
   "outputs": [],
   "source": [
    "from sklearn import datasets\n",
    "import pandas\n",
    "\n",
    "iris_data = datasets.load_iris()\n",
    "\n",
    "iris_dataframe = pandas.DataFrame(data=iris_data['data'], columns = iris_data['feature_names'])\n",
    "\n",
    "print (iris_dataframe)"
   ]
  },
  {
   "cell_type": "markdown",
   "id": "8d001dea",
   "metadata": {},
   "source": [
    "Displaying the dataframe for iris"
   ]
  },
  {
   "cell_type": "code",
   "execution_count": null,
   "id": "921fe127",
   "metadata": {},
   "outputs": [],
   "source": []
  }
 ],
 "metadata": {
  "kernelspec": {
   "display_name": "Python 3 (ipykernel)",
   "language": "python",
   "name": "python3"
  },
  "language_info": {
   "codemirror_mode": {
    "name": "ipython",
    "version": 3
   },
   "file_extension": ".py",
   "mimetype": "text/x-python",
   "name": "python",
   "nbconvert_exporter": "python",
   "pygments_lexer": "ipython3",
   "version": "3.11.5"
  }
 },
 "nbformat": 4,
 "nbformat_minor": 5
}
